{
  "nbformat": 4,
  "nbformat_minor": 0,
  "metadata": {
    "colab": {
      "provenance": []
    },
    "kernelspec": {
      "name": "python3",
      "display_name": "Python 3"
    },
    "language_info": {
      "name": "python"
    }
  },
  "cells": [
    {
      "cell_type": "markdown",
      "source": [
        "**лабораторная работа 1.**\n",
        "\n",
        "Выполнила: Клитная Анастасия группа м103"
      ],
      "metadata": {
        "id": "7NS10X4lG2ga"
      }
    },
    {
      "cell_type": "code",
      "execution_count": 52,
      "metadata": {
        "id": "SJgqwa_2wEGC"
      },
      "outputs": [],
      "source": [
        "import numpy as np\n",
        "import pandas as pd\n",
        "import re  #для удобства работы со строками"
      ]
    },
    {
      "cell_type": "markdown",
      "source": [
        "теперь загрузим сюда файл"
      ],
      "metadata": {
        "id": "2zE_wsIHyp3_"
      }
    },
    {
      "cell_type": "markdown",
      "source": [
        "перед работой не забыть присоеденить файл\\скачать его"
      ],
      "metadata": {
        "id": "vZQH4XWl2LjI"
      }
    },
    {
      "cell_type": "code",
      "source": [
        "name = input('введите название файла ') #если есть возможность ввести с клавиатуры\n",
        "#name = 'mtesrl_20150626_MD0000600002_stats.txt' #файл из папки с заданием"
      ],
      "metadata": {
        "id": "lkgmuw9iy3h_",
        "colab": {
          "base_uri": "https://localhost:8080/"
        },
        "outputId": "24a010fa-a3ec-4a9e-ca2c-02e7e20cfbbc"
      },
      "execution_count": 45,
      "outputs": [
        {
          "name": "stdout",
          "output_type": "stream",
          "text": [
            "введите название файла test1.txt\n"
          ]
        }
      ]
    },
    {
      "cell_type": "code",
      "source": [
        "#откроем наш файл и прочитаем данные с него\n",
        "with open(name, 'r') as file:\n",
        "        lines = file.readlines()\n",
        "# Отфильтруем строки, содержащие нужные данные(выкенет лишнее)\n",
        "data = []\n",
        "for line in lines:\n",
        "    if re.match(r'^\\[\\d{2}:\\d{2}:\\d{2}\\]', line):  # строки с данными начинаются с времени(видно из примера структуры файла)\n",
        "        parts = line.split()  # разделим строку на части, где разделители пробелы\n",
        "        event = parts[1]  # выделим EVENT\n",
        "        avgtsmr = int(parts[-1])  # \"AVGTSMR\" - последний непустой столбик\n",
        "        data.append((event, avgtsmr))\n"
      ],
      "metadata": {
        "id": "4PvzQ_0wLNEZ"
      },
      "execution_count": 46,
      "outputs": []
    },
    {
      "cell_type": "code",
      "source": [
        "# Создаем DataFrame или если проще саму таблицу в пандас\n",
        "df = pd.DataFrame(data, columns=['EVENT', 'AVGTSMR'])\n"
      ],
      "metadata": {
        "id": "yBQmgilaLxU_"
      },
      "execution_count": 47,
      "outputs": []
    },
    {
      "cell_type": "code",
      "source": [
        "#просто посмотрим структуру таблицы\n",
        "df"
      ],
      "metadata": {
        "colab": {
          "base_uri": "https://localhost:8080/",
          "height": 423
        },
        "id": "DoI7MUMGL3HK",
        "outputId": "643b2611-d7e0-4d04-f043-16157f54ee8f"
      },
      "execution_count": 48,
      "outputs": [
        {
          "output_type": "execute_result",
          "data": {
            "text/plain": [
              "        EVENT  AVGTSMR\n",
              "0       AAAAA      476\n",
              "1       ORDER      313\n",
              "2       ORDER      217\n",
              "3       ORDER      222\n",
              "4       ORDER      206\n",
              "...       ...      ...\n",
              "999995  ORDER      181\n",
              "999996  ORDER      177\n",
              "999997  ORDER      225\n",
              "999998  ORDER      182\n",
              "999999  ORDER      180\n",
              "\n",
              "[1000000 rows x 2 columns]"
            ],
            "text/html": [
              "\n",
              "  <div id=\"df-4ff5ed6a-ea25-46c2-a1ff-7594ace747c7\" class=\"colab-df-container\">\n",
              "    <div>\n",
              "<style scoped>\n",
              "    .dataframe tbody tr th:only-of-type {\n",
              "        vertical-align: middle;\n",
              "    }\n",
              "\n",
              "    .dataframe tbody tr th {\n",
              "        vertical-align: top;\n",
              "    }\n",
              "\n",
              "    .dataframe thead th {\n",
              "        text-align: right;\n",
              "    }\n",
              "</style>\n",
              "<table border=\"1\" class=\"dataframe\">\n",
              "  <thead>\n",
              "    <tr style=\"text-align: right;\">\n",
              "      <th></th>\n",
              "      <th>EVENT</th>\n",
              "      <th>AVGTSMR</th>\n",
              "    </tr>\n",
              "  </thead>\n",
              "  <tbody>\n",
              "    <tr>\n",
              "      <th>0</th>\n",
              "      <td>AAAAA</td>\n",
              "      <td>476</td>\n",
              "    </tr>\n",
              "    <tr>\n",
              "      <th>1</th>\n",
              "      <td>ORDER</td>\n",
              "      <td>313</td>\n",
              "    </tr>\n",
              "    <tr>\n",
              "      <th>2</th>\n",
              "      <td>ORDER</td>\n",
              "      <td>217</td>\n",
              "    </tr>\n",
              "    <tr>\n",
              "      <th>3</th>\n",
              "      <td>ORDER</td>\n",
              "      <td>222</td>\n",
              "    </tr>\n",
              "    <tr>\n",
              "      <th>4</th>\n",
              "      <td>ORDER</td>\n",
              "      <td>206</td>\n",
              "    </tr>\n",
              "    <tr>\n",
              "      <th>...</th>\n",
              "      <td>...</td>\n",
              "      <td>...</td>\n",
              "    </tr>\n",
              "    <tr>\n",
              "      <th>999995</th>\n",
              "      <td>ORDER</td>\n",
              "      <td>181</td>\n",
              "    </tr>\n",
              "    <tr>\n",
              "      <th>999996</th>\n",
              "      <td>ORDER</td>\n",
              "      <td>177</td>\n",
              "    </tr>\n",
              "    <tr>\n",
              "      <th>999997</th>\n",
              "      <td>ORDER</td>\n",
              "      <td>225</td>\n",
              "    </tr>\n",
              "    <tr>\n",
              "      <th>999998</th>\n",
              "      <td>ORDER</td>\n",
              "      <td>182</td>\n",
              "    </tr>\n",
              "    <tr>\n",
              "      <th>999999</th>\n",
              "      <td>ORDER</td>\n",
              "      <td>180</td>\n",
              "    </tr>\n",
              "  </tbody>\n",
              "</table>\n",
              "<p>1000000 rows × 2 columns</p>\n",
              "</div>\n",
              "    <div class=\"colab-df-buttons\">\n",
              "\n",
              "  <div class=\"colab-df-container\">\n",
              "    <button class=\"colab-df-convert\" onclick=\"convertToInteractive('df-4ff5ed6a-ea25-46c2-a1ff-7594ace747c7')\"\n",
              "            title=\"Convert this dataframe to an interactive table.\"\n",
              "            style=\"display:none;\">\n",
              "\n",
              "  <svg xmlns=\"http://www.w3.org/2000/svg\" height=\"24px\" viewBox=\"0 -960 960 960\">\n",
              "    <path d=\"M120-120v-720h720v720H120Zm60-500h600v-160H180v160Zm220 220h160v-160H400v160Zm0 220h160v-160H400v160ZM180-400h160v-160H180v160Zm440 0h160v-160H620v160ZM180-180h160v-160H180v160Zm440 0h160v-160H620v160Z\"/>\n",
              "  </svg>\n",
              "    </button>\n",
              "\n",
              "  <style>\n",
              "    .colab-df-container {\n",
              "      display:flex;\n",
              "      gap: 12px;\n",
              "    }\n",
              "\n",
              "    .colab-df-convert {\n",
              "      background-color: #E8F0FE;\n",
              "      border: none;\n",
              "      border-radius: 50%;\n",
              "      cursor: pointer;\n",
              "      display: none;\n",
              "      fill: #1967D2;\n",
              "      height: 32px;\n",
              "      padding: 0 0 0 0;\n",
              "      width: 32px;\n",
              "    }\n",
              "\n",
              "    .colab-df-convert:hover {\n",
              "      background-color: #E2EBFA;\n",
              "      box-shadow: 0px 1px 2px rgba(60, 64, 67, 0.3), 0px 1px 3px 1px rgba(60, 64, 67, 0.15);\n",
              "      fill: #174EA6;\n",
              "    }\n",
              "\n",
              "    .colab-df-buttons div {\n",
              "      margin-bottom: 4px;\n",
              "    }\n",
              "\n",
              "    [theme=dark] .colab-df-convert {\n",
              "      background-color: #3B4455;\n",
              "      fill: #D2E3FC;\n",
              "    }\n",
              "\n",
              "    [theme=dark] .colab-df-convert:hover {\n",
              "      background-color: #434B5C;\n",
              "      box-shadow: 0px 1px 3px 1px rgba(0, 0, 0, 0.15);\n",
              "      filter: drop-shadow(0px 1px 2px rgba(0, 0, 0, 0.3));\n",
              "      fill: #FFFFFF;\n",
              "    }\n",
              "  </style>\n",
              "\n",
              "    <script>\n",
              "      const buttonEl =\n",
              "        document.querySelector('#df-4ff5ed6a-ea25-46c2-a1ff-7594ace747c7 button.colab-df-convert');\n",
              "      buttonEl.style.display =\n",
              "        google.colab.kernel.accessAllowed ? 'block' : 'none';\n",
              "\n",
              "      async function convertToInteractive(key) {\n",
              "        const element = document.querySelector('#df-4ff5ed6a-ea25-46c2-a1ff-7594ace747c7');\n",
              "        const dataTable =\n",
              "          await google.colab.kernel.invokeFunction('convertToInteractive',\n",
              "                                                    [key], {});\n",
              "        if (!dataTable) return;\n",
              "\n",
              "        const docLinkHtml = 'Like what you see? Visit the ' +\n",
              "          '<a target=\"_blank\" href=https://colab.research.google.com/notebooks/data_table.ipynb>data table notebook</a>'\n",
              "          + ' to learn more about interactive tables.';\n",
              "        element.innerHTML = '';\n",
              "        dataTable['output_type'] = 'display_data';\n",
              "        await google.colab.output.renderOutput(dataTable, element);\n",
              "        const docLink = document.createElement('div');\n",
              "        docLink.innerHTML = docLinkHtml;\n",
              "        element.appendChild(docLink);\n",
              "      }\n",
              "    </script>\n",
              "  </div>\n",
              "\n",
              "\n",
              "<div id=\"df-d4c9f1be-cb69-4eec-a229-3ea8f4e64c7f\">\n",
              "  <button class=\"colab-df-quickchart\" onclick=\"quickchart('df-d4c9f1be-cb69-4eec-a229-3ea8f4e64c7f')\"\n",
              "            title=\"Suggest charts\"\n",
              "            style=\"display:none;\">\n",
              "\n",
              "<svg xmlns=\"http://www.w3.org/2000/svg\" height=\"24px\"viewBox=\"0 0 24 24\"\n",
              "     width=\"24px\">\n",
              "    <g>\n",
              "        <path d=\"M19 3H5c-1.1 0-2 .9-2 2v14c0 1.1.9 2 2 2h14c1.1 0 2-.9 2-2V5c0-1.1-.9-2-2-2zM9 17H7v-7h2v7zm4 0h-2V7h2v10zm4 0h-2v-4h2v4z\"/>\n",
              "    </g>\n",
              "</svg>\n",
              "  </button>\n",
              "\n",
              "<style>\n",
              "  .colab-df-quickchart {\n",
              "      --bg-color: #E8F0FE;\n",
              "      --fill-color: #1967D2;\n",
              "      --hover-bg-color: #E2EBFA;\n",
              "      --hover-fill-color: #174EA6;\n",
              "      --disabled-fill-color: #AAA;\n",
              "      --disabled-bg-color: #DDD;\n",
              "  }\n",
              "\n",
              "  [theme=dark] .colab-df-quickchart {\n",
              "      --bg-color: #3B4455;\n",
              "      --fill-color: #D2E3FC;\n",
              "      --hover-bg-color: #434B5C;\n",
              "      --hover-fill-color: #FFFFFF;\n",
              "      --disabled-bg-color: #3B4455;\n",
              "      --disabled-fill-color: #666;\n",
              "  }\n",
              "\n",
              "  .colab-df-quickchart {\n",
              "    background-color: var(--bg-color);\n",
              "    border: none;\n",
              "    border-radius: 50%;\n",
              "    cursor: pointer;\n",
              "    display: none;\n",
              "    fill: var(--fill-color);\n",
              "    height: 32px;\n",
              "    padding: 0;\n",
              "    width: 32px;\n",
              "  }\n",
              "\n",
              "  .colab-df-quickchart:hover {\n",
              "    background-color: var(--hover-bg-color);\n",
              "    box-shadow: 0 1px 2px rgba(60, 64, 67, 0.3), 0 1px 3px 1px rgba(60, 64, 67, 0.15);\n",
              "    fill: var(--button-hover-fill-color);\n",
              "  }\n",
              "\n",
              "  .colab-df-quickchart-complete:disabled,\n",
              "  .colab-df-quickchart-complete:disabled:hover {\n",
              "    background-color: var(--disabled-bg-color);\n",
              "    fill: var(--disabled-fill-color);\n",
              "    box-shadow: none;\n",
              "  }\n",
              "\n",
              "  .colab-df-spinner {\n",
              "    border: 2px solid var(--fill-color);\n",
              "    border-color: transparent;\n",
              "    border-bottom-color: var(--fill-color);\n",
              "    animation:\n",
              "      spin 1s steps(1) infinite;\n",
              "  }\n",
              "\n",
              "  @keyframes spin {\n",
              "    0% {\n",
              "      border-color: transparent;\n",
              "      border-bottom-color: var(--fill-color);\n",
              "      border-left-color: var(--fill-color);\n",
              "    }\n",
              "    20% {\n",
              "      border-color: transparent;\n",
              "      border-left-color: var(--fill-color);\n",
              "      border-top-color: var(--fill-color);\n",
              "    }\n",
              "    30% {\n",
              "      border-color: transparent;\n",
              "      border-left-color: var(--fill-color);\n",
              "      border-top-color: var(--fill-color);\n",
              "      border-right-color: var(--fill-color);\n",
              "    }\n",
              "    40% {\n",
              "      border-color: transparent;\n",
              "      border-right-color: var(--fill-color);\n",
              "      border-top-color: var(--fill-color);\n",
              "    }\n",
              "    60% {\n",
              "      border-color: transparent;\n",
              "      border-right-color: var(--fill-color);\n",
              "    }\n",
              "    80% {\n",
              "      border-color: transparent;\n",
              "      border-right-color: var(--fill-color);\n",
              "      border-bottom-color: var(--fill-color);\n",
              "    }\n",
              "    90% {\n",
              "      border-color: transparent;\n",
              "      border-bottom-color: var(--fill-color);\n",
              "    }\n",
              "  }\n",
              "</style>\n",
              "\n",
              "  <script>\n",
              "    async function quickchart(key) {\n",
              "      const quickchartButtonEl =\n",
              "        document.querySelector('#' + key + ' button');\n",
              "      quickchartButtonEl.disabled = true;  // To prevent multiple clicks.\n",
              "      quickchartButtonEl.classList.add('colab-df-spinner');\n",
              "      try {\n",
              "        const charts = await google.colab.kernel.invokeFunction(\n",
              "            'suggestCharts', [key], {});\n",
              "      } catch (error) {\n",
              "        console.error('Error during call to suggestCharts:', error);\n",
              "      }\n",
              "      quickchartButtonEl.classList.remove('colab-df-spinner');\n",
              "      quickchartButtonEl.classList.add('colab-df-quickchart-complete');\n",
              "    }\n",
              "    (() => {\n",
              "      let quickchartButtonEl =\n",
              "        document.querySelector('#df-d4c9f1be-cb69-4eec-a229-3ea8f4e64c7f button');\n",
              "      quickchartButtonEl.style.display =\n",
              "        google.colab.kernel.accessAllowed ? 'block' : 'none';\n",
              "    })();\n",
              "  </script>\n",
              "</div>\n",
              "    </div>\n",
              "  </div>\n"
            ],
            "application/vnd.google.colaboratory.intrinsic+json": {
              "type": "dataframe",
              "variable_name": "df"
            }
          },
          "metadata": {},
          "execution_count": 48
        }
      ]
    },
    {
      "cell_type": "code",
      "source": [
        "# Группируем данные по типу транзакции\n",
        "stats = df.groupby('EVENT')['AVGTSMR'].agg(['min', 'median','max', lambda x: np.percentile(x, 90),\n",
        "                                               lambda x: np.percentile(x, 99),\n",
        "                                               lambda x: np.percentile(x, 99.9)],)\n",
        "\n",
        "# Переименуем колонки\n",
        "stats.columns = ['min', '50%','max', '90%', '99%', '99.9%']\n",
        "T = {}\n",
        "# Форматируем вывод\n",
        "for event in stats.index:\n",
        "    print(f\"{event} min={int(stats.loc[event, 'min'])} 50%={int(stats.loc[event, '50%'])} \"\n",
        "          f\"90%={int(stats.loc[event, '90%'])} 99%={int(stats.loc[event, '99%'])} \"\n",
        "          f\"99.9%={int(stats.loc[event, '99.9%'])}\")\n",
        "    time_min = int(stats.loc[event, 'min'])\n",
        "    time_max = int(stats.loc[event, 'max'])#99.9%'])\n",
        "    T[event] = [time_min, time_max]\n"
      ],
      "metadata": {
        "colab": {
          "base_uri": "https://localhost:8080/"
        },
        "id": "MHSRzPcdL5dY",
        "outputId": "0eba9521-3a1e-4922-9f64-5e168f9fafb5"
      },
      "execution_count": 49,
      "outputs": [
        {
          "output_type": "stream",
          "name": "stdout",
          "text": [
            "AAAAA min=203 50%=205 90%=369 99%=465 99.9%=474\n",
            "ORDER min=169 50%=190 90%=249 99%=271 99.9%=474\n"
          ]
        }
      ]
    },
    {
      "cell_type": "code",
      "source": [
        "#просто посмотрим на крайние значения всей таблицы\n",
        "print(T)"
      ],
      "metadata": {
        "colab": {
          "base_uri": "https://localhost:8080/"
        },
        "id": "AI06BsNlYsvc",
        "outputId": "3733868d-1854-4923-9f32-fe5f32234456"
      },
      "execution_count": 50,
      "outputs": [
        {
          "output_type": "stream",
          "name": "stdout",
          "text": [
            "{'AAAAA': [203, 476], 'ORDER': [169, 7835]}\n"
          ]
        }
      ]
    },
    {
      "cell_type": "code",
      "source": [
        "table = df.groupby('EVENT')#['AVGTSMR']\n",
        "result = []\n",
        "#необходим минимум кратный 5\n",
        "for even, gr in table:\n",
        "  while T[even][0] % 5 != 0:\n",
        "    T[even][0]+=1\n",
        "\n",
        "for even, gr in table:\n",
        "  size_gr = len(gr)\n",
        "  res = []\n",
        "  for i in range(T[even][0],T[even][1], 5):\n",
        "    tmp = gr['AVGTSMR']\n",
        "    #необходимо отфильтровать данные по времени для нашей таблицы\n",
        "    transno = len(gr[tmp == i]) # Количество транзакций с конкретным временем\n",
        "    weight = transno / size_gr * 100 if size_gr > 0 else 0 #Процент от общего количества транзакций\n",
        "    percent = gr[tmp <= i].shape[0] / size_gr * 100 if size_gr > 0 else 0\n",
        "    res.append((i, transno, weight, percent))\n",
        "\n",
        "  res_df = pd.DataFrame(res, columns = ['ExecTime', 'TransNo', 'Weight,%', 'Percent'])\n",
        "  res_df['EVENT'] = even\n",
        "  result.append(res_df)\n",
        "\n",
        "final_result = pd.concat(result)\n",
        "#для красоты\n",
        "final_result = final_result[['EVENT', 'ExecTime', 'TransNo', 'Weight,%', 'Percent']]\n"
      ],
      "metadata": {
        "id": "r0gCgPTGUiCc"
      },
      "execution_count": 51,
      "outputs": []
    },
    {
      "cell_type": "code",
      "source": [
        "print(T)"
      ],
      "metadata": {
        "colab": {
          "base_uri": "https://localhost:8080/"
        },
        "id": "nFuzNvcFCajs",
        "outputId": "f613bcd0-b0c9-4767-bfb2-e9af480fb7ee"
      },
      "execution_count": 39,
      "outputs": [
        {
          "output_type": "stream",
          "name": "stdout",
          "text": [
            "{'AAAAA': [205, 476], 'ORDER': [170, 7835]}\n"
          ]
        }
      ]
    },
    {
      "cell_type": "code",
      "source": [
        "tab = final_result.groupby('EVENT')\n",
        "for even, group in tab:\n",
        "  print(f\"Таблица для EVENT: {event}\")\n",
        "  print(group)"
      ],
      "metadata": {
        "id": "oIuZ6kZG3I39",
        "outputId": "5b82cb8b-1a6d-4eeb-f254-233fdfcbf4a2",
        "colab": {
          "base_uri": "https://localhost:8080/"
        }
      },
      "execution_count": 40,
      "outputs": [
        {
          "output_type": "stream",
          "name": "stdout",
          "text": [
            "Таблица для EVENT: ORDER\n",
            "    EVENT  ExecTime  TransNo  Weight,%  Percent\n",
            "0   AAAAA       205        1      20.0     60.0\n",
            "1   AAAAA       210        1      20.0     80.0\n",
            "2   AAAAA       215        0       0.0     80.0\n",
            "3   AAAAA       220        0       0.0     80.0\n",
            "4   AAAAA       225        0       0.0     80.0\n",
            "5   AAAAA       230        0       0.0     80.0\n",
            "6   AAAAA       235        0       0.0     80.0\n",
            "7   AAAAA       240        0       0.0     80.0\n",
            "8   AAAAA       245        0       0.0     80.0\n",
            "9   AAAAA       250        0       0.0     80.0\n",
            "10  AAAAA       255        0       0.0     80.0\n",
            "11  AAAAA       260        0       0.0     80.0\n",
            "12  AAAAA       265        0       0.0     80.0\n",
            "13  AAAAA       270        0       0.0     80.0\n",
            "14  AAAAA       275        0       0.0     80.0\n",
            "15  AAAAA       280        0       0.0     80.0\n",
            "16  AAAAA       285        0       0.0     80.0\n",
            "17  AAAAA       290        0       0.0     80.0\n",
            "18  AAAAA       295        0       0.0     80.0\n",
            "19  AAAAA       300        0       0.0     80.0\n",
            "20  AAAAA       305        0       0.0     80.0\n",
            "21  AAAAA       310        0       0.0     80.0\n",
            "22  AAAAA       315        0       0.0     80.0\n",
            "23  AAAAA       320        0       0.0     80.0\n",
            "24  AAAAA       325        0       0.0     80.0\n",
            "25  AAAAA       330        0       0.0     80.0\n",
            "26  AAAAA       335        0       0.0     80.0\n",
            "27  AAAAA       340        0       0.0     80.0\n",
            "28  AAAAA       345        0       0.0     80.0\n",
            "29  AAAAA       350        0       0.0     80.0\n",
            "30  AAAAA       355        0       0.0     80.0\n",
            "31  AAAAA       360        0       0.0     80.0\n",
            "32  AAAAA       365        0       0.0     80.0\n",
            "33  AAAAA       370        0       0.0     80.0\n",
            "34  AAAAA       375        0       0.0     80.0\n",
            "35  AAAAA       380        0       0.0     80.0\n",
            "36  AAAAA       385        0       0.0     80.0\n",
            "37  AAAAA       390        0       0.0     80.0\n",
            "38  AAAAA       395        0       0.0     80.0\n",
            "39  AAAAA       400        0       0.0     80.0\n",
            "40  AAAAA       405        0       0.0     80.0\n",
            "41  AAAAA       410        0       0.0     80.0\n",
            "42  AAAAA       415        0       0.0     80.0\n",
            "43  AAAAA       420        0       0.0     80.0\n",
            "44  AAAAA       425        0       0.0     80.0\n",
            "45  AAAAA       430        0       0.0     80.0\n",
            "46  AAAAA       435        0       0.0     80.0\n",
            "47  AAAAA       440        0       0.0     80.0\n",
            "48  AAAAA       445        0       0.0     80.0\n",
            "49  AAAAA       450        0       0.0     80.0\n",
            "50  AAAAA       455        0       0.0     80.0\n",
            "51  AAAAA       460        0       0.0     80.0\n",
            "52  AAAAA       465        0       0.0     80.0\n",
            "53  AAAAA       470        0       0.0     80.0\n",
            "54  AAAAA       475        0       0.0     80.0\n",
            "Таблица для EVENT: ORDER\n",
            "      EVENT  ExecTime  TransNo  Weight,%    Percent\n",
            "0     ORDER       170       76  0.007600   0.008200\n",
            "1     ORDER       175     2187  0.218701   0.605603\n",
            "2     ORDER       180    32730  3.273016   8.663143\n",
            "3     ORDER       185    46747  4.674723  28.178841\n",
            "4     ORDER       190    40883  4.088320  50.607753\n",
            "...     ...       ...      ...       ...        ...\n",
            "1528  ORDER      7810        0  0.000000  99.999900\n",
            "1529  ORDER      7815        0  0.000000  99.999900\n",
            "1530  ORDER      7820        0  0.000000  99.999900\n",
            "1531  ORDER      7825        0  0.000000  99.999900\n",
            "1532  ORDER      7830        0  0.000000  99.999900\n",
            "\n",
            "[1533 rows x 5 columns]\n"
          ]
        }
      ]
    }
  ]
}